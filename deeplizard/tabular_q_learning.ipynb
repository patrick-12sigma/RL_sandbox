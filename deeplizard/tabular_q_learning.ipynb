{
 "cells": [
  {
   "cell_type": "markdown",
   "metadata": {},
   "source": [
    "# Tabular Q-learning\n",
    "\n",
    "Each step is directly used to update the Q table. To smooth changes, a learning rate $\\alpha$ is specified.\n",
    "\n",
    "The Q table updating rule is\n",
    "\n",
    "$$\n",
    "Q(s, a) = \\alpha Q(s, a) + (1-\\alpha) (r_{s, a \\rightarrow s'} + \\max_{a' \\in A} Q(s', a')) \n",
    "$$"
   ]
  },
  {
   "cell_type": "code",
   "execution_count": 1,
   "metadata": {},
   "outputs": [],
   "source": [
    "import gym\n",
    "import numpy as np\n",
    "import os\n",
    "import random\n",
    "import time\n",
    "from tqdm import tqdm\n",
    "from IPython.display import clear_output"
   ]
  },
  {
   "cell_type": "code",
   "execution_count": 18,
   "metadata": {},
   "outputs": [],
   "source": [
    "episode_num = 100000\n",
    "timeout_step_num = 100\n",
    "\n",
    "gamma = 0.99\n",
    "lr = 0.1\n",
    "\n",
    "# epsilon greedy params\n",
    "epsilon_min = 0.01\n",
    "epsilon_decay = 0.001\n"
   ]
  },
  {
   "cell_type": "code",
   "execution_count": 19,
   "metadata": {},
   "outputs": [
    {
     "name": "stderr",
     "output_type": "stream",
     "text": [
      "100%|██████████| 100000/100000 [01:52<00:00, 885.49it/s]"
     ]
    },
    {
     "name": "stdout",
     "output_type": "stream",
     "text": [
      "****updated q_table****\n",
      "[[0.53693397 0.49302026 0.49848174 0.49773057]\n",
      " [0.3427032  0.28019992 0.22657995 0.48454453]\n",
      " [0.41767584 0.41021328 0.39067557 0.45499572]\n",
      " [0.33369125 0.28683581 0.22377491 0.44266617]\n",
      " [0.55226669 0.34808066 0.41529699 0.35287875]\n",
      " [0.         0.         0.         0.        ]\n",
      " [0.11941961 0.06969405 0.28314372 0.17910228]\n",
      " [0.         0.         0.         0.        ]\n",
      " [0.29838657 0.4038493  0.32732489 0.58239817]\n",
      " [0.39606652 0.61296615 0.40738924 0.30311553]\n",
      " [0.54593484 0.28741969 0.34529955 0.33607376]\n",
      " [0.         0.         0.         0.        ]\n",
      " [0.         0.         0.         0.        ]\n",
      " [0.4416374  0.59546967 0.69486108 0.62770973]\n",
      " [0.74372344 0.86769065 0.75486479 0.72499508]\n",
      " [0.         0.         0.         0.        ]]\n"
     ]
    },
    {
     "name": "stderr",
     "output_type": "stream",
     "text": [
      "\n"
     ]
    }
   ],
   "source": [
    "env = gym.make('FrozenLake-v0')\n",
    "\n",
    "action_space_size = env.action_space.n\n",
    "obs_space_size = env.observation_space.n\n",
    "q_table = np.zeros((obs_space_size, action_space_size))\n",
    "\n",
    "def update_q_table():\n",
    "    q_table[state, action] = (\n",
    "        (1 - lr) * q_table[state, action] + \n",
    "        lr * (reward + gamma * np.max(q_table[new_state, :])))\n",
    "    \n",
    "        \n",
    "def get_epsilon(episode_idx):\n",
    "    epsilon = epsilon_min + (1 - epsilon_min) * np.exp(- epsilon_decay * episode_idx)\n",
    "#     if episode_idx % 100 == 0:\n",
    "#         print(episode_idx, epsilon)\n",
    "    return epsilon\n",
    "\n",
    "def get_action():\n",
    "    if np.random.random() > epsilon:\n",
    "        action = np.argmax(q_table[state, :])\n",
    "    else:\n",
    "        action = np.random.choice(action_space_size)\n",
    "    return action\n",
    "\n",
    "episodes_rewards = []\n",
    "\n",
    "for episode_idx in tqdm(range(episode_num)):\n",
    "    current_episode_reward = 0\n",
    "    state = env.reset()\n",
    "    epsilon = get_epsilon(episode_idx)\n",
    "    for step_idx in range(timeout_step_num):\n",
    "        action = get_action()    \n",
    "        new_state, reward, done, _ = env.step(action)\n",
    "        \n",
    "        # update q_table\n",
    "        update_q_table()\n",
    "        \n",
    "        # prepare next step\n",
    "        current_episode_reward += reward\n",
    "        state = new_state\n",
    "        if done:\n",
    "            break\n",
    "    episodes_rewards.append(current_episode_reward)\n",
    "    \n",
    "print('****updated q_table****')\n",
    "print(q_table)"
   ]
  },
  {
   "cell_type": "code",
   "execution_count": 20,
   "metadata": {},
   "outputs": [
    {
     "name": "stdout",
     "output_type": "stream",
     "text": [
      "[0.   0.   0.   ... 0.65 0.55 0.65]\n"
     ]
    },
    {
     "data": {
      "text/plain": [
       "Text(0.5, 1.0, 'winning rate')"
      ]
     },
     "execution_count": 20,
     "metadata": {},
     "output_type": "execute_result"
    },
    {
     "data": {
      "image/png": "[encoded data removed]",
      "text/plain": [
       "<Figure size 432x288 with 1 Axes>"
      ]
     },
     "metadata": {
      "needs_background": "light"
     },
     "output_type": "display_data"
    }
   ],
   "source": [
    "from matplotlib import pylab as plt\n",
    "%matplotlib inline\n",
    "\n",
    "episodes_rewards = np.array(episodes_rewards)\n",
    "episodes_rewards_mean = episodes_rewards.reshape([-1, 20]).mean(axis=1)\n",
    "\n",
    "\n",
    "# plt.hist(episodes_rewards)\n",
    "plt.figure()\n",
    "plt.plot(episodes_rewards_mean)\n",
    "print(episodes_rewards_mean)\n",
    "plt.title('winning rate')"
   ]
  },
  {
   "cell_type": "markdown",
   "metadata": {},
   "source": [
    "## deployment"
   ]
  },
  {
   "cell_type": "code",
   "execution_count": 141,
   "metadata": {},
   "outputs": [
    {
     "name": "stdout",
     "output_type": "stream",
     "text": [
      "Success 1 out of 3\n"
     ]
    }
   ],
   "source": [
    "play_episode_num = 3\n",
    "success_num = 0\n",
    "\n",
    "for episode in range(play_episode_num):\n",
    "    state = env.reset()\n",
    "    done = False\n",
    "    \n",
    "    print('***Episode {}***'.format(episode))\n",
    "    time.sleep(1)\n",
    "    clear_output(wait=True)\n",
    "    for step in range(timeout_step_num):\n",
    "        env.render()\n",
    "        time.sleep(0.3)\n",
    "        clear_output(wait=True)\n",
    "        action = np.argmax(q_table[state, :])\n",
    "        new_state, reward, done, _ = env.step(action)\n",
    "        if done:\n",
    "            env.render()\n",
    "            if reward == 1:\n",
    "                print('Goal Reached!')\n",
    "                success_num += 1\n",
    "            else:\n",
    "                print('Agent Failed!')\n",
    "            time.sleep(3)\n",
    "            clear_output(wait=True)\n",
    "            break\n",
    "        else:\n",
    "            state = new_state\n",
    "\n",
    "print('Success {} out of {}'.format(success_num, play_episode_num))"
   ]
  },
  {
   "cell_type": "code",
   "execution_count": null,
   "metadata": {},
   "outputs": [],
   "source": []
  }
 ],
 "metadata": {
  "kernelspec": {
   "display_name": "Python 3",
   "language": "python",
   "name": "python3"
  },
  "language_info": {
   "codemirror_mode": {
    "name": "ipython",
    "version": 3
   },
   "file_extension": ".py",
   "mimetype": "text/x-python",
   "name": "python",
   "nbconvert_exporter": "python",
   "pygments_lexer": "ipython3",
   "version": "3.6.5"
  }
 },
 "nbformat": 4,
 "nbformat_minor": 2
}
