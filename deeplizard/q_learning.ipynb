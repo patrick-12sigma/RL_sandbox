{
 "cells": [
  {
   "cell_type": "markdown",
   "metadata": {},
   "source": [
    "# Q-learning\n",
    "\n",
    "Each step is used to update the transition matrixm. The probability distribution in the transition matrix is used to update the Q table. No smoothing via learning rate is needed.\n",
    "\n",
    "The Q table updating rule is\n",
    "$$\n",
    "Q(s, a) = \\sum_{s'} p_{s, a \\rightarrow s'} (r_{s, a \\rightarrow s'} + \\max_{a' \\in A} Q(s', a')) \n",
    "$$"
   ]
  },
  {
   "cell_type": "code",
   "execution_count": 3,
   "metadata": {},
   "outputs": [],
   "source": [
    "import gym\n",
    "import numpy as np\n",
    "import os\n",
    "import random\n",
    "import time\n",
    "from tqdm import tqdm\n",
    "from collections import defaultdict\n",
    "from collections import Counter\n",
    "from IPython.display import clear_output"
   ]
  },
  {
   "cell_type": "code",
   "execution_count": 13,
   "metadata": {},
   "outputs": [],
   "source": [
    "episode_num = 1000\n",
    "timeout_step_num = 100\n",
    "\n",
    "gamma = 0.99\n",
    "lr = 0.1\n",
    "\n",
    "# epsilon greedy params\n",
    "epsilon_min = 0.01\n",
    "epsilon_decay = 1#0.001\n",
    "\n",
    "random_play_num = 100"
   ]
  },
  {
   "cell_type": "code",
   "execution_count": 24,
   "metadata": {
    "scrolled": true
   },
   "outputs": [
    {
     "name": "stderr",
     "output_type": "stream",
     "text": [
      "100%|██████████| 1000/1000 [00:41<00:00, 21.15it/s]"
     ]
    },
    {
     "name": "stdout",
     "output_type": "stream",
     "text": [
      "****updated q_table****\n",
      "[[0.51884797 0.5073284  0.50662865 0.50019803]\n",
      " [0.3339779  0.33450378 0.29821249 0.4816047 ]\n",
      " [0.42747914 0.42078982 0.41747315 0.45532248]\n",
      " [0.29720236 0.30106859 0.28503624 0.44214538]\n",
      " [0.53472729 0.34196534 0.36029559 0.35083123]\n",
      " [0.         0.         0.         0.        ]\n",
      " [0.33154806 0.27438762 0.35009471 0.13627908]\n",
      " [0.         0.         0.         0.        ]\n",
      " [0.37549875 0.37188067 0.35423604 0.5673319 ]\n",
      " [0.48283164 0.61630951 0.31326451 0.35820093]\n",
      " [0.58511313 0.47323602 0.37442724 0.26080421]\n",
      " [0.         0.         0.         0.        ]\n",
      " [0.         0.         0.         0.        ]\n",
      " [0.27212866 0.63760952 0.71371182 0.42105039]\n",
      " [0.70449964 0.83540379 0.80707343 0.79365431]\n",
      " [0.         0.         0.         0.        ]]\n"
     ]
    },
    {
     "name": "stderr",
     "output_type": "stream",
     "text": [
      "\n"
     ]
    }
   ],
   "source": [
    "env = gym.make('FrozenLake-v0')\n",
    "\n",
    "action_space_size = env.action_space.n\n",
    "obs_space_size = env.observation_space.n\n",
    "q_table = np.zeros((obs_space_size, action_space_size))\n",
    "rewards = defaultdict(float)\n",
    "transits = defaultdict(Counter)\n",
    "\n",
    "\n",
    "# random play some episodes to fill in transits\n",
    "def play_n_episodes(n):\n",
    "    state = env.reset()\n",
    "    for i in range(n):\n",
    "        while True:\n",
    "            action = np.random.choice(action_space_size)\n",
    "            new_state, reward, done, _ = env.step(action)\n",
    "            transits[(state, action)][new_state] += 1\n",
    "            rewards[(state, action, new_state)] = reward\n",
    "            state = new_state\n",
    "            if done:\n",
    "                break\n",
    "\n",
    "\n",
    "def update_q_table_value_iteration():\n",
    "    \"\"\"Update every entry in the q_table\"\"\"\n",
    "    for state in range(obs_space_size):\n",
    "        for action in range(action_space_size):\n",
    "            total = sum(transits[(state, action)].values())\n",
    "            q_value = 0\n",
    "            for new_state, freq in transits[(state, action)].items():\n",
    "#                 print(new_state, freq)\n",
    "                reward = rewards[(state, action, new_state)]\n",
    "                q_value += (freq / total) * (\n",
    "                    reward + gamma * np.max(q_table[new_state, :]))\n",
    "#             print(q_value)\n",
    "            q_table[state, action] = q_value\n",
    "\n",
    "    \n",
    "def get_epsilon(episode_idx):\n",
    "    epsilon = epsilon_min + (1 - epsilon_min) * np.exp(- epsilon_decay * episode_idx)\n",
    "#     if episode_idx % 100 == 0:\n",
    "#         print(episode_idx, epsilon)\n",
    "    return epsilon\n",
    "\n",
    "\n",
    "def get_action():\n",
    "    if np.random.random() > epsilon:\n",
    "        action = np.argmax(q_table[state, :])\n",
    "    else:\n",
    "        action = np.random.choice(action_space_size)\n",
    "    return action\n",
    "\n",
    "\n",
    "episodes_rewards = []\n",
    "\n",
    "for episode_idx in tqdm(range(episode_num)):    \n",
    "    play_n_episodes(n=random_play_num) # this updates transits and rewards\n",
    "    current_episode_reward = 0\n",
    "    state = env.reset()\n",
    "    epsilon = 0 #get_epsilon(episode_idx)\n",
    "\n",
    "    for step_idx in range(timeout_step_num):\n",
    "        action = get_action()\n",
    "        new_state, reward, done, _ = env.step(action)\n",
    "        \n",
    "        # update transits, rewards, q_table\n",
    "        transits[(state, action)][new_state] += 1\n",
    "        rewards[(state, action, new_state)] = reward\n",
    "        update_q_table_value_iteration()\n",
    "\n",
    "        # prepare next step\n",
    "        current_episode_reward += reward\n",
    "        state = new_state\n",
    "        if done:\n",
    "            break\n",
    "    episodes_rewards.append(current_episode_reward)\n",
    "    \n",
    "print('****updated q_table****')\n",
    "print(q_table)"
   ]
  },
  {
   "cell_type": "code",
   "execution_count": 25,
   "metadata": {},
   "outputs": [
    {
     "name": "stdout",
     "output_type": "stream",
     "text": [
      "[0.   0.   0.2  0.45 0.4  0.55 0.55 0.65 0.65 0.65 0.7  0.7  0.8  0.6\n",
      " 0.8  0.8  0.9  0.65 0.65 0.7  0.65 0.5  0.7  0.8  0.75 0.9  0.75 0.55\n",
      " 0.65 0.65 0.7  0.5  0.8  0.65 0.65 0.55 0.75 0.6  0.8  0.65 0.65 0.9\n",
      " 0.85 0.75 0.6  0.8  0.8  0.9  0.7  0.75]\n"
     ]
    },
    {
     "data": {
      "text/plain": [
       "Text(0.5, 1.0, 'winning rate')"
      ]
     },
     "execution_count": 25,
     "metadata": {},
     "output_type": "execute_result"
    },
    {
     "data": {
      "image/png": "[encoded data removed]",
      "text/plain": [
       "<Figure size 432x288 with 1 Axes>"
      ]
     },
     "metadata": {
      "needs_background": "light"
     },
     "output_type": "display_data"
    }
   ],
   "source": [
    "from matplotlib import pylab as plt\n",
    "%matplotlib inline\n",
    "\n",
    "episodes_rewards = np.array(episodes_rewards)\n",
    "episodes_rewards_mean = episodes_rewards.reshape([-1, 20]).mean(axis=1)\n",
    "\n",
    "\n",
    "# plt.hist(episodes_rewards)\n",
    "plt.figure()\n",
    "plt.plot(episodes_rewards_mean)\n",
    "print(episodes_rewards_mean)\n",
    "plt.title('winning rate')"
   ]
  },
  {
   "cell_type": "markdown",
   "metadata": {},
   "source": [
    "## deployment"
   ]
  },
  {
   "cell_type": "code",
   "execution_count": 35,
   "metadata": {},
   "outputs": [
    {
     "name": "stdout",
     "output_type": "stream",
     "text": [
      "Success 7 out of 10\n"
     ]
    }
   ],
   "source": [
    "play_episode_num = 3\n",
    "success_num = 0\n",
    "\n",
    "for episode in range(play_episode_num):\n",
    "    state = env.reset()\n",
    "    done = False\n",
    "    \n",
    "    print('***Episode {}***'.format(episode))\n",
    "    time.sleep(1)\n",
    "    clear_output(wait=True)\n",
    "    for step in range(timeout_step_num):\n",
    "        env.render()\n",
    "        time.sleep(0.3)\n",
    "        clear_output(wait=True)\n",
    "        action = np.argmax(q_table[state, :])\n",
    "        new_state, reward, done, _ = env.step(action)\n",
    "        if done:\n",
    "            env.render()\n",
    "            if reward == 1:\n",
    "                print('Goal Reached!')\n",
    "                success_num += 1\n",
    "            else:\n",
    "                print('Agent Failed!')\n",
    "            time.sleep(3)\n",
    "            clear_output(wait=True)\n",
    "            break\n",
    "        else:\n",
    "            state = new_state\n",
    "\n",
    "print('Success {} out of {}'.format(success_num, play_episode_num))"
   ]
  },
  {
   "cell_type": "code",
   "execution_count": null,
   "metadata": {},
   "outputs": [],
   "source": []
  }
 ],
 "metadata": {
  "kernelspec": {
   "display_name": "Python 3",
   "language": "python",
   "name": "python3"
  },
  "language_info": {
   "codemirror_mode": {
    "name": "ipython",
    "version": 3
   },
   "file_extension": ".py",
   "mimetype": "text/x-python",
   "name": "python",
   "nbconvert_exporter": "python",
   "pygments_lexer": "ipython3",
   "version": "3.6.5"
  }
 },
 "nbformat": 4,
 "nbformat_minor": 2
}
